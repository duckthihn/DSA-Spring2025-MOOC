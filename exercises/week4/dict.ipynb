{
 "cells": [
  {
   "metadata": {},
   "cell_type": "markdown",
   "source": [
    "# Dictionary\n",
    "## Using a dictionary"
   ],
   "id": "711989cd13958e24"
  },
  {
   "metadata": {
    "ExecuteTime": {
     "end_time": "2025-03-25T16:14:48.045059Z",
     "start_time": "2025-03-25T16:14:48.040021Z"
    }
   },
   "cell_type": "code",
   "source": [
    "# Has an element occurred\n",
    "\n",
    "items = [1,2,3,4,5,1,2,3]\n",
    "\n",
    "seen = {}\n",
    "for x in items:\n",
    "    seen[x] = True\n",
    "\n",
    "print(seen)\n",
    "\n",
    "seen1 = set()\n",
    "for x in items:\n",
    "    seen1.add(x)\n",
    "\n",
    "print(seen1)"
   ],
   "id": "8b1f19a711c8f4e1",
   "outputs": [
    {
     "name": "stdout",
     "output_type": "stream",
     "text": [
      "{1: True, 2: True, 3: True, 4: True, 5: True}\n",
      "{1, 2, 3, 4, 5}\n"
     ]
    }
   ],
   "execution_count": 1
  },
  {
   "metadata": {
    "ExecuteTime": {
     "end_time": "2025-03-25T16:14:48.180444Z",
     "start_time": "2025-03-25T16:14:48.177888Z"
    }
   },
   "cell_type": "code",
   "source": [
    "# Counting occurrences\n",
    "count = {}\n",
    "for x in items:\n",
    "    if x not in count:\n",
    "        count[x] = 0\n",
    "    count[x] += 1\n",
    "\n",
    "print(count)\n"
   ],
   "id": "72556d2db53cacca",
   "outputs": [
    {
     "name": "stdout",
     "output_type": "stream",
     "text": [
      "{1: 2, 2: 2, 3: 2, 4: 1, 5: 1}\n"
     ]
    }
   ],
   "execution_count": 2
  },
  {
   "metadata": {
    "ExecuteTime": {
     "end_time": "2025-03-25T16:14:48.296590Z",
     "start_time": "2025-03-25T16:14:48.292161Z"
    }
   },
   "cell_type": "code",
   "source": [
    "# Position of occurrences\n",
    "pos = {}\n",
    "for i, x in enumerate(items):\n",
    "    pos[x] = i\n",
    "\n",
    "print(pos)"
   ],
   "id": "55b08e77a5d042f0",
   "outputs": [
    {
     "name": "stdout",
     "output_type": "stream",
     "text": [
      "{1: 5, 2: 6, 3: 7, 4: 3, 5: 4}\n"
     ]
    }
   ],
   "execution_count": 3
  },
  {
   "metadata": {},
   "cell_type": "markdown",
   "source": [
    "## Example\n",
    "### Mode\n",
    "\n",
    "You are given a list of numbers, and your task is to compute the mode, which is the most frequent number on the list. If the mode is not unique, you can choose any of the possible choices for the most frequent number.\n",
    "\n",
    "For example, when the list is [1,2,3,2,2,3,2,2], the desired answer is 2.\n"
   ],
   "id": "e0772217b66b6b84"
  },
  {
   "metadata": {
    "ExecuteTime": {
     "end_time": "2025-03-25T16:23:04.445988Z",
     "start_time": "2025-03-25T16:23:04.442567Z"
    }
   },
   "cell_type": "code",
   "source": [
    "def find_mode(numbers):\n",
    "    count = {}\n",
    "    mode = numbers[0]\n",
    "\n",
    "    for x in numbers: # O(n)\n",
    "        if x not in count:\n",
    "            count[x] = 0\n",
    "        count[x] += 1\n",
    "\n",
    "        mode = max(mode,(count[x], x))\n",
    "\n",
    "find_mode([1,2,3,2,2,3,2,2])"
   ],
   "id": "aac0f14e4ec47f0c",
   "outputs": [
    {
     "data": {
      "text/plain": [
       "2"
      ]
     },
     "execution_count": 5,
     "metadata": {},
     "output_type": "execute_result"
    }
   ],
   "execution_count": 5
  },
  {
   "metadata": {},
   "cell_type": "markdown",
   "source": [
    "### Rounds\n",
    "\n",
    "\n",
    "You are given a list that contains the numbers 1,2,…,n in some order. Your task is to collect all the numbers in order from smallest to largest so that in each round you go through the list from left to right. How many rounds do you need?\n",
    "\n",
    "For example, the list [3,6,1,7,5,2,4,8] requires 4 rounds. The first round collects the numbers 1 and 2, the second round the numbers 33 and 44, the third round the number 5, and the fourth round the numbers 6, 7 and 8.\n"
   ],
   "id": "43824bd6a1bfb0aa"
  },
  {
   "metadata": {
    "ExecuteTime": {
     "end_time": "2025-03-25T16:35:36.727233Z",
     "start_time": "2025-03-25T16:35:36.723526Z"
    }
   },
   "cell_type": "code",
   "source": [
    "def count_rounds(numbers):\n",
    "    n = len(numbers)\n",
    "\n",
    "    pos = {}\n",
    "    for i, x in enumerate(numbers):\n",
    "        pos[x] = i\n",
    "\n",
    "    print(pos)\n",
    "\n",
    "    rounds = 1\n",
    "    for i in range(1,n):\n",
    "        if pos[i + 1] < pos[i]:\n",
    "            rounds += 1\n",
    "\n",
    "    return rounds\n",
    "\n",
    "count_rounds([3,6,1,7,5,2,4,8])"
   ],
   "id": "d8f218aad1d2572a",
   "outputs": [
    {
     "name": "stdout",
     "output_type": "stream",
     "text": [
      "{3: 0, 6: 1, 1: 2, 7: 3, 5: 4, 2: 5, 4: 6, 8: 7}\n"
     ]
    },
    {
     "data": {
      "text/plain": [
       "4"
      ]
     },
     "execution_count": 7,
     "metadata": {},
     "output_type": "execute_result"
    }
   ],
   "execution_count": 7
  },
  {
   "metadata": {},
   "cell_type": "markdown",
   "source": [
    "### Play list\n",
    "\n",
    "\n",
    "You are given a play list, where each song is represented by an integer. Your task to find out how long is the longest part of the play list that contains no song twice.\n",
    "\n",
    "For example, when the play list is [1,2,1,3,5,4,3,1], the desired answer is 5, which is the length of the play list part [2,1,3,5,4].\n"
   ],
   "id": "6186276623747f8a"
  },
  {
   "metadata": {
    "ExecuteTime": {
     "end_time": "2025-03-25T17:03:45.040571Z",
     "start_time": "2025-03-25T17:03:45.037096Z"
    }
   },
   "cell_type": "code",
   "source": [
    "def max_length(songs):\n",
    "    n = len(songs)\n",
    "\n",
    "    pos = {}\n",
    "    start = 0\n",
    "    length = 0\n",
    "\n",
    "    for i, song in enumerate(songs):\n",
    "        if song in pos:\n",
    "            start = max(start, pos[song] + 1)\n",
    "        length = max(length, i - start + 1)\n",
    "        pos[song] = i\n",
    "\n",
    "    return length\n",
    "\n",
    "max_length([1,2,1,3,5,4,3,1])"
   ],
   "id": "687ec3bc4e1c29a",
   "outputs": [
    {
     "data": {
      "text/plain": [
       "5"
      ]
     },
     "execution_count": 12,
     "metadata": {},
     "output_type": "execute_result"
    }
   ],
   "execution_count": 12
  },
  {
   "metadata": {},
   "cell_type": "markdown",
   "source": [
    "### List sums\n",
    "\n",
    "\n",
    "You are given a list containing nn integers. Your task is to count, how many sublists of the list have xx as the sum of its elements.\n",
    "\n",
    "For example, when the list is [2,3,5,−3,4,4,6,2] and x=5, the desired answer is 4. The sublists with sum x are [2,3], [5], [3,5,−3] and [−3,4,4].\n"
   ],
   "id": "608af1451d5b56af"
  },
  {
   "metadata": {
    "ExecuteTime": {
     "end_time": "2025-03-26T11:33:42.211051Z",
     "start_time": "2025-03-26T11:33:42.207492Z"
    }
   },
   "cell_type": "code",
   "source": [
    "def count_sublists(numbers, x):\n",
    "    count = {0:1}\n",
    "    prefix_sum = 0\n",
    "    result = 0\n",
    "\n",
    "    for i in range(len(numbers)):\n",
    "        prefix_sum += numbers[i]\n",
    "        if prefix_sum - x in count:\n",
    "            result += count[prefix_sum - x]\n",
    "\n",
    "        if prefix_sum not in count:\n",
    "            count[prefix_sum] = 0\n",
    "        count[prefix_sum] += 1\n",
    "\n",
    "        print(count, result)\n",
    "\n",
    "    return result\n",
    "\n",
    "count_sublists([2,3,5,-3,4,4,6,2], 5)"
   ],
   "id": "3d4ae5359e9b117f",
   "outputs": [
    {
     "name": "stdout",
     "output_type": "stream",
     "text": [
      "{0: 1, 2: 1} 0\n",
      "{0: 1, 2: 1, 5: 1} 1\n",
      "{0: 1, 2: 1, 5: 1, 10: 1} 2\n",
      "{0: 1, 2: 1, 5: 1, 10: 1, 7: 1} 3\n",
      "{0: 1, 2: 1, 5: 1, 10: 1, 7: 1, 11: 1} 3\n",
      "{0: 1, 2: 1, 5: 1, 10: 1, 7: 1, 11: 1, 15: 1} 4\n",
      "{0: 1, 2: 1, 5: 1, 10: 1, 7: 1, 11: 1, 15: 1, 21: 1} 4\n",
      "{0: 1, 2: 1, 5: 1, 10: 1, 7: 1, 11: 1, 15: 1, 21: 1, 23: 1} 4\n"
     ]
    },
    {
     "data": {
      "text/plain": [
       "4"
      ]
     },
     "execution_count": 4,
     "metadata": {},
     "output_type": "execute_result"
    }
   ],
   "execution_count": 4
  }
 ],
 "metadata": {
  "kernelspec": {
   "name": "python3",
   "language": "python",
   "display_name": "Python 3 (ipykernel)"
  }
 },
 "nbformat": 5,
 "nbformat_minor": 9
}
